{
 "cells": [
  {
   "cell_type": "markdown",
   "metadata": {},
   "source": [
    "# Problem 13.2"
   ]
  },
  {
   "cell_type": "code",
   "execution_count": 1,
   "metadata": {},
   "outputs": [],
   "source": [
    "import numpy as np\n",
    "import matplotlib.pyplot as plt\n",
    "import scipy.signal as sig"
   ]
  },
  {
   "cell_type": "markdown",
   "metadata": {},
   "source": [
    "##### The model"
   ]
  },
  {
   "cell_type": "markdown",
   "metadata": {},
   "source": [
    "The model is given by a controller and a process:\n",
    "$$\n",
    "T_C(s) = K\n",
    "$$\n",
    "$$\n",
    "T_P(s) = \\frac{1}{s(0.2 s + 1)(0.08 s + 1)}\n",
    "$$\n",
    "The open-loop transfer function is given by:\n",
    "$$\n",
    "T_{ol}(s) = \\frac{K}{s(0.2 s + 1)(0.08 s + 1)}\n",
    "$$\n",
    "Combining the controller and the process in a feedback loop, the overall closed-loop transferfunction is given by:\n",
    "$$\n",
    "T_{cl}(s) = \\frac{K}{0.016 s^3 + 0.28 s^2 + s + K}\n",
    "$$"
   ]
  },
  {
   "cell_type": "markdown",
   "metadata": {},
   "source": [
    "In code this reads:"
   ]
  },
  {
   "cell_type": "code",
   "execution_count": 2,
   "metadata": {},
   "outputs": [],
   "source": [
    "K = 1.0\n",
    "pls = np.array([0., -5., -12.5])\n",
    "zpkol = sig.ZerosPolesGain([],pls,1)"
   ]
  },
  {
   "cell_type": "code",
   "execution_count": 3,
   "metadata": {},
   "outputs": [],
   "source": [
    "w, H = sig.freqresp(zpkol)"
   ]
  },
  {
   "cell_type": "code",
   "execution_count": 4,
   "metadata": {},
   "outputs": [
    {
     "data": {
      "image/png": "[encoded data removed]",
      "text/plain": [
       "<Figure size 432x288 with 1 Axes>"
      ]
     },
     "metadata": {
      "needs_background": "light"
     },
     "output_type": "display_data"
    }
   ],
   "source": [
    "plt.plot(H.real, H.imag, \"b\")\n",
    "plt.plot(H.real, -H.imag, \"r\")\n",
    "plt.xlabel(\"Re(H)\")\n",
    "plt.ylabel(\"Im(H)\")\n",
    "plt.title(\"Open-loop Nyquist Plot\")\n",
    "plt.grid(True)\n",
    "plt.show()"
   ]
  },
  {
   "cell_type": "code",
   "execution_count": null,
   "metadata": {},
   "outputs": [],
   "source": []
  }
 ],
 "metadata": {
  "kernelspec": {
   "display_name": "Python 3",
   "language": "python",
   "name": "python3"
  },
  "language_info": {
   "codemirror_mode": {
    "name": "ipython",
    "version": 3
   },
   "file_extension": ".py",
   "mimetype": "text/x-python",
   "name": "python",
   "nbconvert_exporter": "python",
   "pygments_lexer": "ipython3",
   "version": "3.7.3"
  }
 },
 "nbformat": 4,
 "nbformat_minor": 2
}
