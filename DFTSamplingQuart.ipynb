{
 "cells": [
  {
   "cell_type": "markdown",
   "metadata": {},
   "source": [
    "# Fourier & sampling II"
   ]
  },
  {
   "cell_type": "code",
   "execution_count": 1,
   "metadata": {},
   "outputs": [],
   "source": [
    "import numpy as np\n",
    "import matplotlib.pyplot as plt"
   ]
  },
  {
   "cell_type": "markdown",
   "metadata": {},
   "source": [
    "##### Define two sequences with same frequency signal but different length"
   ]
  },
  {
   "cell_type": "markdown",
   "metadata": {},
   "source": [
    "For this notebook we choose the half the highest frequency that can be represented in a time-series, e.g. one quarter of the sampling frequency. \n",
    "We make two series, one with the number of data equal to a multiple of four, that matches the frequency with the length of the series, and one with one data point less. See what effect this has on the spectrum."
   ]
  },
  {
   "cell_type": "code",
   "execution_count": 2,
   "metadata": {},
   "outputs": [],
   "source": [
    "a = np.array([1, 0, -1, 0, 1, 0, -1, 0, 1, 0, -1, 0, 1, 0, -1, 0])\n",
    "b = np.array([1, 0, -1, 0, 1, 0, -1, 0, 1, 0, -1, 0, 1, 0, -1])"
   ]
  },
  {
   "cell_type": "markdown",
   "metadata": {},
   "source": [
    "##### Calculate the Fourier coefficients of these time-series."
   ]
  },
  {
   "cell_type": "markdown",
   "metadata": {},
   "source": [
    "The Fourier functions can be found in the numpy.fft packages. Note that the default normalisation is None for the forward FFT and 1/n for the backward FFT."
   ]
  },
  {
   "cell_type": "code",
   "execution_count": 3,
   "metadata": {},
   "outputs": [
    {
     "name": "stdout",
     "output_type": "stream",
     "text": [
      "The Fourier coefficients of sequence a are:  [0.+0.j 0.+0.j 0.+0.j 0.+0.j 8.+0.j 0.+0.j 0.+0.j 0.+0.j 0.+0.j 0.+0.j\n",
      " 0.+0.j 0.+0.j 8.+0.j 0.+0.j 0.+0.j 0.+0.j]\n",
      "The Fourier coefficients of sequence b are:  [ 0.        +0.j         -0.04731814+0.22261434j -0.24723827+0.55530626j\n",
      " -1.11803399+1.53884177j  5.28338612-4.75718223j  1.5       -0.8660254j\n",
      "  1.11803399-0.36327126j  1.0111703 -0.10627828j  1.0111703 +0.10627828j\n",
      "  1.11803399+0.36327126j  1.5       +0.8660254j   5.28338612+4.75718223j\n",
      " -1.11803399-1.53884177j -0.24723827-0.55530626j -0.04731814-0.22261434j]\n"
     ]
    }
   ],
   "source": [
    "fa = np.fft.fft(a)\n",
    "fb = np.fft.fft(b)\n",
    "print('The Fourier coefficients of sequence a are: ',fa)\n",
    "print('The Fourier coefficients of sequence b are: ',fb)"
   ]
  },
  {
   "cell_type": "code",
   "execution_count": 4,
   "metadata": {},
   "outputs": [
    {
     "data": {
      "image/png": "[encoded data removed]",
      "text/plain": [
       "<Figure size 432x288 with 1 Axes>"
      ]
     },
     "metadata": {
      "needs_background": "light"
     },
     "output_type": "display_data"
    }
   ],
   "source": [
    "plt.stem(np.abs(fa), use_line_collection=True)\n",
    "plt.xlabel('n')\n",
    "plt.ylabel('FFT(a)')\n",
    "plt.title('FFT of a sequence of 16 points')\n",
    "plt.grid(True)\n",
    "plt.show()"
   ]
  },
  {
   "cell_type": "code",
   "execution_count": 5,
   "metadata": {},
   "outputs": [
    {
     "data": {
      "image/png": "[encoded data removed]",
      "text/plain": [
       "<Figure size 432x288 with 1 Axes>"
      ]
     },
     "metadata": {
      "needs_background": "light"
     },
     "output_type": "display_data"
    }
   ],
   "source": [
    "plt.stem(np.abs(fb), use_line_collection=True)\n",
    "plt.xlabel('n')\n",
    "plt.ylabel('FFT(b)')\n",
    "plt.title('FFT of a sequence of 15 points')\n",
    "plt.grid(True)\n",
    "plt.show()"
   ]
  },
  {
   "cell_type": "markdown",
   "metadata": {},
   "source": [
    "Note that the fact that the matching sequence gives a different results in the Fourier coefficients from the non-matching sequence. The sequences **a** matches in length with the periode of the signal, whereas in the other sequence **b**, the the length does not match. Due to the fact the the FFT is based on a repetative on the interval given, sequence **b** gives a ''friction''. The fact that you observe frequencies, that differ from the signal as observed is due to the discontinuity of the repetative continuation of the signal. This is also known as spectral leakage."
   ]
  },
  {
   "cell_type": "markdown",
   "metadata": {},
   "source": [
    "Note also that the number of coefficients is equal to the number op points in the sequence. point *n=0* is the $\\omega=0$ component. For sequence **a** the *n=8* corresponds tot the maximum freuquency in the sequence. For sequence **b** the maximum is at *'n'=7.5*, which is not a interger number (hence the quotes). Note however that the spectrum (sequence of Fourier coefficients) is symmetric around *'n'=7.5*. Note that the peaks appear at the same n-number. "
   ]
  },
  {
   "cell_type": "code",
   "execution_count": null,
   "metadata": {},
   "outputs": [],
   "source": []
  }
 ],
 "metadata": {
  "kernelspec": {
   "display_name": "Python 3",
   "language": "python",
   "name": "python3"
  },
  "language_info": {
   "codemirror_mode": {
    "name": "ipython",
    "version": 3
   },
   "file_extension": ".py",
   "mimetype": "text/x-python",
   "name": "python",
   "nbconvert_exporter": "python",
   "pygments_lexer": "ipython3",
   "version": "3.7.3"
  }
 },
 "nbformat": 4,
 "nbformat_minor": 2
}
