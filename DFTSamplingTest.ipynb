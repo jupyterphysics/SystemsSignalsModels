{
 "cells": [
  {
   "cell_type": "markdown",
   "metadata": {},
   "source": [
    "# Fourier & Sampling I"
   ]
  },
  {
   "cell_type": "markdown",
   "metadata": {},
   "source": [
    "This notebook illustrates the effect of Sampling on a discrete Fourier Transform."
   ]
  },
  {
   "cell_type": "code",
   "execution_count": 1,
   "metadata": {},
   "outputs": [],
   "source": [
    "import numpy as np\n",
    "import matplotlib.pyplot as plt"
   ]
  },
  {
   "cell_type": "markdown",
   "metadata": {},
   "source": [
    "##### Define two series of different length but equal signal"
   ]
  },
  {
   "cell_type": "markdown",
   "metadata": {},
   "source": [
    "For this notebook we choose the highest frequency that can be represented in a time-series, e.g. half the sampling frequency: alternating values.  \n",
    "We make two series, one with even number of data, that matches the frequency with the length of the series, and one with an odd number of data. See what effect this has on the spectrum.\n"
   ]
  },
  {
   "cell_type": "code",
   "execution_count": 2,
   "metadata": {},
   "outputs": [],
   "source": [
    "a = np.array([1, -1, 1, -1, 1, -1, 1, -1])\n",
    "b = np.array([1, -1, 1, -1, 1, -1, 1])"
   ]
  },
  {
   "cell_type": "markdown",
   "metadata": {},
   "source": [
    "##### Calculate the Fourier transform of these two sequences"
   ]
  },
  {
   "cell_type": "markdown",
   "metadata": {},
   "source": [
    "The Fourier functions can be found in the numpy.fft packages. Note that the default normalisation is None for the forward FFT and 1/n for the backward FFT."
   ]
  },
  {
   "cell_type": "code",
   "execution_count": 3,
   "metadata": {},
   "outputs": [
    {
     "name": "stdout",
     "output_type": "stream",
     "text": [
      "The Fourier coefficients of sequence a are:  [0.+0.j 0.+0.j 0.+0.j 0.+0.j 8.+0.j 0.+0.j 0.+0.j 0.+0.j]\n",
      "The Fourier coefficients of sequence b are:  [1.+0.j         1.+0.48157462j 1.+1.25396034j 1.+4.38128627j\n",
      " 1.-4.38128627j 1.-1.25396034j 1.-0.48157462j]\n"
     ]
    }
   ],
   "source": [
    "fa = np.fft.fft(a)\n",
    "fb = np.fft.fft(b)\n",
    "print('The Fourier coefficients of sequence a are: ',fa)\n",
    "print('The Fourier coefficients of sequence b are: ',fb)"
   ]
  },
  {
   "cell_type": "code",
   "execution_count": 4,
   "metadata": {},
   "outputs": [
    {
     "name": "stderr",
     "output_type": "stream",
     "text": [
      "C:\\ProgramData\\Anaconda3\\lib\\site-packages\\ipykernel_launcher.py:1: UserWarning: In Matplotlib 3.3 individual lines on a stem plot will be added as a LineCollection instead of individual lines. This significantly improves the performance of a stem plot. To remove this warning and switch to the new behaviour, set the \"use_line_collection\" keyword argument to True.\n",
      "  \"\"\"Entry point for launching an IPython kernel.\n"
     ]
    },
    {
     "data": {
      "image/png": "[encoded data removed]",
      "text/plain": [
       "<Figure size 432x288 with 1 Axes>"
      ]
     },
     "metadata": {
      "needs_background": "light"
     },
     "output_type": "display_data"
    }
   ],
   "source": [
    "plt.stem(np.abs(fa))\n",
    "plt.xlabel('n')\n",
    "plt.ylabel('FFT(a)')\n",
    "plt.title('FFT of a sequence of 8 points')\n",
    "plt.grid(True)\n",
    "plt.show()"
   ]
  },
  {
   "cell_type": "code",
   "execution_count": 5,
   "metadata": {},
   "outputs": [
    {
     "name": "stderr",
     "output_type": "stream",
     "text": [
      "C:\\ProgramData\\Anaconda3\\lib\\site-packages\\ipykernel_launcher.py:1: UserWarning: In Matplotlib 3.3 individual lines on a stem plot will be added as a LineCollection instead of individual lines. This significantly improves the performance of a stem plot. To remove this warning and switch to the new behaviour, set the \"use_line_collection\" keyword argument to True.\n",
      "  \"\"\"Entry point for launching an IPython kernel.\n"
     ]
    },
    {
     "data": {
      "image/png": "[encoded data removed]",
      "text/plain": [
       "<Figure size 432x288 with 1 Axes>"
      ]
     },
     "metadata": {
      "needs_background": "light"
     },
     "output_type": "display_data"
    }
   ],
   "source": [
    "plt.stem(np.abs(fb))\n",
    "plt.xlabel('n')\n",
    "plt.ylabel('FFT(b)')\n",
    "plt.title('FFT of a sequence of 7 points')\n",
    "plt.grid(True)\n",
    "plt.show()"
   ]
  },
  {
   "cell_type": "markdown",
   "metadata": {},
   "source": [
    "Note that the fact that the alternating sequence give different results in the Fourier coefficients, due to the fact that one of the sequences **a** matches in length with the periode of the signal, whereas in the other sequence **b**, the the length does not match. Due to the fact the the FFT is based on a repetative on the interval given, sequence **b** gives a ''friction''. "
   ]
  },
  {
   "cell_type": "markdown",
   "metadata": {},
   "source": [
    "Note also that the number of coefficients is equal to the number op points in the sequence. point *n=0* is the $\\omega=0$ component. For sequence **a** the *n=4* corresponds tot the maximum freuquency in the sequence. For sequence **b** the maximum is at *'n'=3.5*, which is not a interger number (hence the quotes). Note however that the spectrum (sequence of Fourier coefficients) is symmetric around *'n'=3.5*."
   ]
  },
  {
   "cell_type": "code",
   "execution_count": null,
   "metadata": {},
   "outputs": [],
   "source": []
  }
 ],
 "metadata": {
  "kernelspec": {
   "display_name": "Python 3",
   "language": "python",
   "name": "python3"
  },
  "language_info": {
   "codemirror_mode": {
    "name": "ipython",
    "version": 3
   },
   "file_extension": ".py",
   "mimetype": "text/x-python",
   "name": "python",
   "nbconvert_exporter": "python",
   "pygments_lexer": "ipython3",
   "version": "3.7.3"
  }
 },
 "nbformat": 4,
 "nbformat_minor": 2
}
